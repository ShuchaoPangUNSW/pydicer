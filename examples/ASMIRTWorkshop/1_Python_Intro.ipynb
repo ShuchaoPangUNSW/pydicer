{
 "cells": [
  {
   "attachments": {},
   "cell_type": "markdown",
   "metadata": {},
   "source": [
    "# Part 1: Python Introduction\n",
    "\n",
    "This notebook is part of the **Radiotherapy image data analysis using Python** Workshop at ASMIRT 2023 in Sydney, Australia.\n",
    "\n",
    "In this part you will learn the basics around:\n",
    "- Python syntax\n",
    "- Python data types (String, Numbers, Lists and Dictionaries)\n",
    "- Installing Python libraries\n",
    "- Pandas DataFrames\n",
    "- Plotting\n",
    "\n",
    "## Python Syntax\n",
    "\n",
    "First, let's take a look at some basic Python syntax."
   ]
  },
  {
   "cell_type": "code",
   "execution_count": null,
   "metadata": {},
   "outputs": [],
   "source": [
    "# Comment you code by using the # symbol\n",
    "\n",
    "# Print some text using the print function\n",
    "print(\"Hello Python!\")\n",
    "\n",
    "# Define variables using the following syntax\n",
    "my_lucky_number = 42\n",
    "# Tip: Variable names are typically define all in lowercase and use underscores (_) to separate\n",
    "# words. You can't use spaces in variable names.\n",
    "\n",
    "# In Python, indentation of lines is used to nest blocks of code together. In the following\n",
    "# example, the value is only printed if your lucky number is over 21. Take note of the indentation.\n",
    "\n",
    "if my_lucky_number > 21:\n",
    "    print(f\"My lucky number is {my_lucky_number}\")"
   ]
  },
  {
   "attachments": {},
   "cell_type": "markdown",
   "metadata": {},
   "source": [
    "## Python Data Types\n",
    "\n",
    "Your Python variables can store all sorts of data objects. In this example we'll see how some basic\n",
    "data types are stored in Python."
   ]
  },
  {
   "cell_type": "code",
   "execution_count": null,
   "metadata": {},
   "outputs": [],
   "source": [
    "# We can store an integer (whole) number\n",
    "my_lucky_number = 42\n",
    "\n",
    "# Or a floating point number\n",
    "my_unlucky_number = 13.13\n",
    "\n",
    "# And we can perform mathematically operations on this\n",
    "my_sum = my_lucky_number + my_unlucky_number\n",
    "\n",
    "# Storing a string value is easy\n",
    "my_string = \"Hello Python\"\n",
    "\n",
    "# Let's print it all out\n",
    "print(f\"{my_string}, the sum of my lucky and unlucky numbers is {my_sum}\")"
   ]
  },
  {
   "cell_type": "code",
   "execution_count": null,
   "metadata": {},
   "outputs": [],
   "source": [
    "# Lists can store a collection of data objects\n",
    "my_list = [1, 2, 3, 4, 5]\n",
    "\n",
    "# Access values in a list by using the index value at which they are stored\n",
    "print(f\"The third element of the list is {my_list[2]}\")\n",
    "\n",
    "# Or we can use a loop to print each element in the list\n",
    "for number in my_list:\n",
    "    print(f\"Number: {number}\")\n",
    "\n",
    "# And dictionary objects can store collections that can be accessed using a key\n",
    "my_dict = {\n",
    "    \"my_lucky_number\": 42,\n",
    "    \"my_unlucky_number\": 13.13\n",
    "}\n",
    "\n",
    "# Access values in a dictionary by using the key\n",
    "print(f\"My lucky number is: {my_dict['my_lucky_number']}\")"
   ]
  },
  {
   "cell_type": "code",
   "execution_count": null,
   "metadata": {},
   "outputs": [],
   "source": [
    "my_list_of_dicts = [\n",
    "    {\"patient_id\": \"PAT-001\", \"treatment_site\": \"breast\", \"prescribed_dose\": 42.5},\n",
    "    {\"patient_id\": \"PAT-002\", \"treatment_site\": \"breast\", \"prescribed_dose\": 40},\n",
    "    {\"patient_id\": \"PAT-003\", \"treatment_site\": \"lung\", \"prescribed_dose\": 60}\n",
    "]\n",
    "\n",
    "# We can print the entire list if we want\n",
    "print(my_list_of_dicts)"
   ]
  },
  {
   "attachments": {},
   "cell_type": "markdown",
   "metadata": {},
   "source": [
    "## Installing Python Libraries\n",
    "\n",
    "Python provides a tool named `pip` which can be used to install libraries provided by the\n",
    "community. These libraries can provide all sorts of useful functionality and are mostly\n",
    "open-source and completely free to use!\n",
    "\n",
    "In this example we will install two popualr libraries, **pandas** used for working with tablular\n",
    "data, and **seaborn** which is used for plotting."
   ]
  },
  {
   "cell_type": "code",
   "execution_count": null,
   "metadata": {},
   "outputs": [],
   "source": [
    "! pip install pandas seaborn"
   ]
  },
  {
   "attachments": {},
   "cell_type": "markdown",
   "metadata": {},
   "source": [
    "## Pandas DataFrames\n",
    "\n",
    "The **pandas** library we just installed is extrememly popular with data scientists since it\n",
    "provides lots of functionality to store, manipulate and analyse data in tabular form.\n",
    "\n",
    "Let's create a DataFrame using the list of dictionaries we created above."
   ]
  },
  {
   "cell_type": "code",
   "execution_count": null,
   "metadata": {},
   "outputs": [],
   "source": [
    "# First, we must import the library. To do this we use the import keyword. Here we also give the\n",
    "# library and optional alias by which we can refer to it in our code.\n",
    "import pandas as pd\n",
    "import seaborn as sns"
   ]
  },
  {
   "cell_type": "code",
   "execution_count": null,
   "metadata": {},
   "outputs": [],
   "source": [
    "# We can create a DataFrame object by using our list of dictionaries\n",
    "df = pd.DataFrame(my_list_of_dicts)\n",
    "\n",
    "# And we can display the DataFrame in a notebook inserting the name of the variable at the end of a\n",
    "# cell.\n",
    "df"
   ]
  },
  {
   "cell_type": "code",
   "execution_count": null,
   "metadata": {},
   "outputs": [],
   "source": [
    "# Now can perform operation like filtering the data\n",
    "df[df.prescribed_dose<60]"
   ]
  },
  {
   "attachments": {},
   "cell_type": "markdown",
   "metadata": {},
   "source": [
    "## Spreadsheets and CSV's\n",
    "\n",
    "Pandas is very versatile, you can actually import Excel spreadsheets and CSV files very easily into DataFrames using one line of code!"
   ]
  },
  {
   "attachments": {},
   "cell_type": "markdown",
   "metadata": {},
   "source": [
    "Let's grab some dummy RT data spreadsheets and CSV's first "
   ]
  },
  {
   "cell_type": "code",
   "execution_count": null,
   "metadata": {},
   "outputs": [],
   "source": [
    "from pathlib import Path\n",
    "import requests\n",
    "import tempfile\n",
    "import zipfile"
   ]
  },
  {
   "attachments": {},
   "cell_type": "markdown",
   "metadata": {},
   "source": [
    "For spreadsheet loading using Pandas, we require the `openpyxl` library\n"
   ]
  },
  {
   "cell_type": "code",
   "execution_count": null,
   "metadata": {},
   "outputs": [],
   "source": [
    "! pip install openpyxl"
   ]
  },
  {
   "cell_type": "code",
   "execution_count": null,
   "metadata": {},
   "outputs": [],
   "source": [
    "spreadsheet_zip_url = \"https://unsw-my.sharepoint.com/:x:/g/personal/z5114185_ad_unsw_edu_au/EUtGdF21K6NCr4ZQc6ZmuUQB-amyHpVrJTV44b58HshHQg?download=1\"\n",
    "\n",
    "with tempfile.TemporaryDirectory() as temp_dir:\n",
    "    temp_file = Path(temp_dir).joinpath(\"tmp.xlsx\")\n",
    "        \n",
    "    data = requests.get(spreadsheet_zip_url)\n",
    "    with open(temp_file, 'wb') as out_file:\n",
    "        out_file.write(data.content)\n",
    "    df_spreadsheet = pd.read_excel(temp_file)\n",
    "\n",
    "df_spreadsheet.head()"
   ]
  },
  {
   "cell_type": "code",
   "execution_count": null,
   "metadata": {},
   "outputs": [],
   "source": [
    "csv_zip_url = \"https://unsw-my.sharepoint.com/:x:/g/personal/z5114185_ad_unsw_edu_au/EfbB4MU25aBFnHrxV2j7aUwBGeMJQGbl_n6LwmzCbDLEAg?download=1\"\n",
    "\n",
    "with tempfile.TemporaryDirectory() as temp_dir:\n",
    "    temp_file = Path(temp_dir).joinpath(\"tmp.csv\")\n",
    "        \n",
    "    data = requests.get(csv_zip_url)\n",
    "    with open(temp_file, 'wb') as out_file:\n",
    "        out_file.write(data.content)\n",
    "    df_csv = pd.read_csv(temp_file)\n",
    "\n",
    "df_csv.head()"
   ]
  },
  {
   "attachments": {},
   "cell_type": "markdown",
   "metadata": {},
   "source": [
    "## Plotting\n",
    "\n",
    "Finally, let's visualise this data by using the **seaborn** library. **seaborn** works well with\n",
    "**pandas**, in this example we will produce a box plot by providing the `df_csv` DataFrame and\n",
    "specifying which columns should be used to plot the x- and y-axis."
   ]
  },
  {
   "cell_type": "code",
   "execution_count": null,
   "metadata": {},
   "outputs": [],
   "source": [
    "sns.boxplot(data=df_csv, y=\"centroid_z_cm\", x=\"target_volume\")"
   ]
  },
  {
   "cell_type": "code",
   "execution_count": null,
   "metadata": {},
   "outputs": [],
   "source": [
    "sns.boxplot(data=df_csv, y=\"centroid_z_cm\", x=\"target_volume\", hue=\"observer\")"
   ]
  },
  {
   "attachments": {},
   "cell_type": "markdown",
   "metadata": {},
   "source": [
    "## Exercise\n",
    "\n",
    "In the empty cells below, try adapting the code from above to produce some different plots."
   ]
  },
  {
   "cell_type": "code",
   "execution_count": null,
   "metadata": {},
   "outputs": [],
   "source": [
    "# Produce a box plot with the maximum Hausdorff Distance on the y-axis, the Target Volume on the x-axis, split by different sequences\n",
    "\n"
   ]
  },
  {
   "cell_type": "code",
   "execution_count": null,
   "metadata": {},
   "outputs": [],
   "source": [
    "# Produce a scatter plot using the sns.scatterplot function, try using observer on the x-axis\n",
    "# and dice_cofficient on the y-axis\n",
    "\n"
   ]
  },
  {
   "cell_type": "code",
   "execution_count": null,
   "metadata": {},
   "outputs": [],
   "source": [
    "# Produce a box plot using our simple data in df. Plot the prescribed dose on the y-axis and\n",
    "# treatment site on the x-axis\n",
    "\n"
   ]
  }
 ],
 "metadata": {
  "kernelspec": {
   "display_name": "pydicer",
   "language": "python",
   "name": "python3"
  },
  "language_info": {
   "codemirror_mode": {
    "name": "ipython",
    "version": 3
   },
   "file_extension": ".py",
   "mimetype": "text/x-python",
   "name": "python",
   "nbconvert_exporter": "python",
   "pygments_lexer": "ipython3",
   "version": "3.8.0"
  },
  "orig_nbformat": 4,
  "vscode": {
   "interpreter": {
    "hash": "814af119db7f8f2860617be3dcd1d37c560587d11c65bd58c45b1679d3ee6ea4"
   }
  }
 },
 "nbformat": 4,
 "nbformat_minor": 2
}
