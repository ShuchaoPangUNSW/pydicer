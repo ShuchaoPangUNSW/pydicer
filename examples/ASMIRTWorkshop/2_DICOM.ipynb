{
 "cells": [
  {
   "attachments": {},
   "cell_type": "markdown",
   "metadata": {},
   "source": [
    "# Part 2: Working with DICOM\n",
    "\n",
    "This notebook is part of the **Radiotherapy image data analysis using Python** Workshop at ASMIRT 2023 in Sydney, Australia.\n",
    "\n",
    "In this part you will learn about the DICOM standard and how we can use Python to:\n",
    "- Read DICOM files\n",
    "- Inspect DICOM header attributes\n",
    "- Manipulate DICOM data\n",
    "\n",
    "## Import libraries and download some sample data\n",
    "\n",
    "First we will import some libraries that we will need and download some DICOM data which we can use\n",
    "for these examples."
   ]
  },
  {
   "cell_type": "code",
   "execution_count": null,
   "metadata": {},
   "outputs": [],
   "source": [
    "import tempfile\n",
    "import zipfile\n",
    "import requests\n",
    "from pathlib import Path\n",
    "\n",
    "try:\n",
    "    import pydicom\n",
    "except:\n",
    "    ! pip install pydicom\n",
    "    import pydicom\n",
    "\n",
    "dicom_zip_url = \"https://unsw-my.sharepoint.com/:u:/g/personal/z3523015_ad_unsw_edu_au/EfuOALdQEHtFph3EzdpmbOUBx3-kPcLGpuQI2sML7vje-g?download=1\"\n",
    "output_directory = \"dicom\"\n",
    "\n",
    "with tempfile.TemporaryDirectory() as temp_dir:\n",
    "    temp_file = Path(temp_dir).joinpath(\"tmp.zip\")\n",
    "        \n",
    "    data = requests.get(dicom_zip_url)\n",
    "    with open(temp_file, 'wb')as out_file:\n",
    "        out_file.write(data.content)\n",
    "        \n",
    "    with zipfile.ZipFile(temp_file, \"r\") as zip_ref:\n",
    "        zip_ref.extractall(output_directory)"
   ]
  },
  {
   "attachments": {},
   "cell_type": "markdown",
   "metadata": {},
   "source": [
    "## Read DICOM files\n",
    "\n",
    "Here we will load some of the DICOM files we downloaded. First we will load one slice of a CT\n",
    "image."
   ]
  },
  {
   "cell_type": "code",
   "execution_count": null,
   "metadata": {},
   "outputs": [],
   "source": [
    "# Define the path to the folder containing a CT image series\n",
    "path_to_ct = Path(\"dicom/HNSCC/HNSCC-01-0019/07-04-1998-NA-RT SIMULATION-48452/5.000000-NA-38976\")\n",
    "\n",
    "# Fetch all DICOM files (with .dcm extension) in that folder\n",
    "ct_files = list(path_to_ct.glob(\"*.dcm\"))\n",
    "\n",
    "# Use the pydicom library to read one file from the ct_files list\n",
    "ct = pydicom.read_file(ct_files[40])"
   ]
  },
  {
   "attachments": {},
   "cell_type": "markdown",
   "metadata": {},
   "source": [
    "The CT image pixel data is stored in an array we can access using `ct.pixel_array`. We can\n",
    "use this to visualise the image slice."
   ]
  },
  {
   "cell_type": "code",
   "execution_count": null,
   "metadata": {},
   "outputs": [],
   "source": [
    "from matplotlib import pyplot as plt\n",
    "plt.imshow(ct.pixel_array, interpolation='nearest', cmap=plt.get_cmap('gray'))\n",
    "plt.show()"
   ]
  },
  {
   "attachments": {},
   "cell_type": "markdown",
   "metadata": {},
   "source": [
    "Similarly we can also read an `RTSTRUCT` and `RTDOSE` DICOM file"
   ]
  },
  {
   "cell_type": "code",
   "execution_count": null,
   "metadata": {},
   "outputs": [],
   "source": [
    "path_to_rtstruct = Path(\"dicom/HNSCC/HNSCC-01-0019/07-04-1998-NA-RT SIMULATION-48452/1.000000-NA-10361/1-1.dcm\")\n",
    "path_to_rtdose = Path(\"dicom/HNSCC/HNSCC-01-0019/07-04-1998-NA-RT SIMULATION-48452/1.000000-NA-46284/1-1.dcm\")\n",
    "\n",
    "rtstruct = pydicom.read_file(path_to_rtstruct)\n",
    "rtdose = pydicom.read_file(path_to_rtdose)"
   ]
  },
  {
   "cell_type": "code",
   "execution_count": null,
   "metadata": {},
   "outputs": [],
   "source": [
    "from matplotlib import pyplot as plt\n",
    "plt.imshow(rtdose.pixel_array[:,:, 40], interpolation='nearest', cmap=plt.get_cmap('gray'))\n",
    "plt.show()"
   ]
  },
  {
   "attachments": {},
   "cell_type": "markdown",
   "metadata": {},
   "source": [
    "## Inspect DICOM Header Attributes\n",
    "\n",
    "Next we can start to explore the DICOM header attributes and the information they contain."
   ]
  },
  {
   "cell_type": "code",
   "execution_count": null,
   "metadata": {},
   "outputs": [],
   "source": [
    "# Let's take a look at the CT Header Attributes\n",
    "print(ct)"
   ]
  },
  {
   "cell_type": "code",
   "execution_count": null,
   "metadata": {},
   "outputs": [],
   "source": [
    "# The contour definitions are contained within the DICOM Header attributes of the RTSTRUCT file\n",
    "# Here we will use some Python code to loop over each contour name we have available\n",
    "\n",
    "for struct_seq in rtstruct.StructureSetROISequence:\n",
    "    print(f\"{struct_seq.ROINumber}: {struct_seq.ROIName}\")"
   ]
  },
  {
   "cell_type": "code",
   "execution_count": null,
   "metadata": {},
   "outputs": [],
   "source": [
    "# Now let's find the contour sequence for a specific structure (Mandible)\n",
    "mandible_ref_number = 17\n",
    "mandible_struct = None\n",
    "\n",
    "for struct_seq in rtstruct.ROIContourSequence:\n",
    "    if struct_seq.ReferencedROINumber == mandible_ref_number:\n",
    "        mandible_struct = struct_seq"
   ]
  },
  {
   "cell_type": "code",
   "execution_count": null,
   "metadata": {},
   "outputs": [],
   "source": [
    "print(f\"Number of slices on which Mandible is contoured: {len(mandible_struct.ContourSequence)}\")\n",
    "print()\n",
    "print(mandible_struct.ContourSequence[0])\n",
    "print()\n",
    "print(mandible_struct.ContourSequence[0].ContourData)"
   ]
  },
  {
   "attachments": {},
   "cell_type": "markdown",
   "metadata": {},
   "source": [
    "## Manipulate DICOM Header data\n",
    "\n",
    "We can use the `pydicom` to modify DICOM Header attributes and then save the modified DICOM files."
   ]
  },
  {
   "cell_type": "code",
   "execution_count": null,
   "metadata": {},
   "outputs": [],
   "source": [
    "# Let's change the StudyDescription \n",
    "print(f\"Old Study Description: {rtstruct.StudyDescription}\")\n",
    "rtstruct.StudyDescription = \"Corrected Study Description\"\n",
    "print(f\"New Study Description: {rtstruct.StudyDescription}\")"
   ]
  },
  {
   "cell_type": "code",
   "execution_count": null,
   "metadata": {},
   "outputs": [],
   "source": [
    "# Perhaps a more useful example would be to correct some contour names\n",
    "# Loop over each contour and change the name Cord to SpinalCord\n",
    "for struct_seq in rtstruct.StructureSetROISequence:\n",
    "  if struct_seq.ROIName == \"Cord\":\n",
    "    print(f\"Renaming {struct_seq.ROIName} to SpinalCord\")\n",
    "    struct_seq.ROIName = \"SpinalCord\""
   ]
  },
  {
   "cell_type": "code",
   "execution_count": null,
   "metadata": {},
   "outputs": [],
   "source": [
    "# And finally, we can save the modified RTSTRUCT file\n",
    "rtstruct.save_as(\"RS.modified.dcm\")"
   ]
  },
  {
   "attachments": {},
   "cell_type": "markdown",
   "metadata": {},
   "source": [
    "## Exercise\n",
    "\n",
    "Let's try modifying some more DICOM Header attributes, this time in the RTDOSE file, and save the\n",
    "modified DICOM file."
   ]
  },
  {
   "cell_type": "code",
   "execution_count": null,
   "metadata": {},
   "outputs": [],
   "source": [
    "# Modify the StudyDescription of the rtdose DICOM object.\n",
    "\n"
   ]
  },
  {
   "cell_type": "code",
   "execution_count": null,
   "metadata": {},
   "outputs": [],
   "source": [
    "# Take a look at the other header attributes in the rtdose DICOM. Modify one of the other DICOM\n",
    "# header attributes.\n",
    "\n"
   ]
  },
  {
   "cell_type": "code",
   "execution_count": null,
   "metadata": {},
   "outputs": [],
   "source": [
    "# Save the modified rtdose object as a file named RD.modified.dcm\n",
    "\n"
   ]
  },
  {
   "cell_type": "code",
   "execution_count": null,
   "metadata": {},
   "outputs": [],
   "source": []
  }
 ],
 "metadata": {
  "kernelspec": {
   "display_name": "pydicer",
   "language": "python",
   "name": "python3"
  },
  "language_info": {
   "codemirror_mode": {
    "name": "ipython",
    "version": 3
   },
   "file_extension": ".py",
   "mimetype": "text/x-python",
   "name": "python",
   "nbconvert_exporter": "python",
   "pygments_lexer": "ipython3",
   "version": "3.8.0"
  },
  "orig_nbformat": 4,
  "vscode": {
   "interpreter": {
    "hash": "814af119db7f8f2860617be3dcd1d37c560587d11c65bd58c45b1679d3ee6ea4"
   }
  }
 },
 "nbformat": 4,
 "nbformat_minor": 2
}
